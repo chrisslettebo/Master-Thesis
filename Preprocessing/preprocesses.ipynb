{
 "cells": [
  {
   "cell_type": "markdown",
   "id": "59468b4f",
   "metadata": {},
   "source": [
    "<h1> Master </h1>"
   ]
  },
  {
   "cell_type": "markdown",
   "id": "fe518382",
   "metadata": {},
   "source": [
    "<h3> Imports</h3>"
   ]
  },
  {
   "cell_type": "code",
   "execution_count": 3,
   "id": "e3796923",
   "metadata": {},
   "outputs": [],
   "source": [
    "import pandas as pd"
   ]
  },
  {
   "cell_type": "markdown",
   "id": "aeaf3e67",
   "metadata": {},
   "source": [
    "<h3> Read file </h3>"
   ]
  },
  {
   "cell_type": "code",
   "execution_count": 5,
   "id": "d909368f",
   "metadata": {},
   "outputs": [],
   "source": [
    "CE_data = pd.read_excel(\"../Data/batt201900135-sup-0001-full_dataset_mass_loading_1.xlsx\")"
   ]
  },
  {
   "cell_type": "markdown",
   "id": "fa5400fd",
   "metadata": {},
   "source": [
    "<h3> Header </h3>"
   ]
  },
  {
   "cell_type": "code",
   "execution_count": 6,
   "id": "20becf6e",
   "metadata": {},
   "outputs": [
    {
     "name": "stdout",
     "output_type": "stream",
     "text": [
      "   Composition (A.M.%)  S-to-L Ratio (%)  Comma gap (µm)  Viscosity (Pas)  \\\n",
      "0                 96.0         73.291013              50              3.1   \n",
      "1                 96.0         73.291013              50              3.1   \n",
      "2                 96.0         73.291013              50              3.1   \n",
      "3                 96.0         73.291013              50              3.1   \n",
      "4                 96.0         73.291013              50              3.1   \n",
      "\n",
      "   Mass Loading (mg cm-2)   Porosity (%)  \n",
      "0                 7.508698     56.633408  \n",
      "1                 7.579602     57.261251  \n",
      "2                 6.941469     57.971229  \n",
      "3                 7.437795     53.910625  \n",
      "4                 7.225084     56.254016  \n"
     ]
    }
   ],
   "source": [
    "print(CE_data.head())"
   ]
  },
  {
   "cell_type": "markdown",
   "id": "38012bc7",
   "metadata": {},
   "source": [
    "<h3> Dimensions </h3>"
   ]
  },
  {
   "cell_type": "code",
   "execution_count": 17,
   "id": "b399a24b",
   "metadata": {},
   "outputs": [
    {
     "name": "stdout",
     "output_type": "stream",
     "text": [
      "(656, 6)\n"
     ]
    }
   ],
   "source": [
    "print(CE_data.shape)"
   ]
  }
 ],
 "metadata": {
  "kernelspec": {
   "display_name": "Master",
   "language": "python",
   "name": "python3"
  },
  "language_info": {
   "codemirror_mode": {
    "name": "ipython",
    "version": 3
   },
   "file_extension": ".py",
   "mimetype": "text/x-python",
   "name": "python",
   "nbconvert_exporter": "python",
   "pygments_lexer": "ipython3",
   "version": "3.10.18"
  }
 },
 "nbformat": 4,
 "nbformat_minor": 5
}
